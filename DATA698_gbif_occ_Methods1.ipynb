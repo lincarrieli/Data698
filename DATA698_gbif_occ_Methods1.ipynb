{
 "cells": [
  {
   "cell_type": "markdown",
   "metadata": {},
   "source": [
    "### Methods: 1. Data Acquisition"
   ]
  },
  {
   "cell_type": "code",
   "execution_count": 2,
   "metadata": {},
   "outputs": [],
   "source": [
    "# Import libraries \n",
    "import pandas as pd\n",
    "import requests\n",
    "import json\n",
    "import io\n",
    "from functions_query_from_species_list import *"
   ]
  },
  {
   "cell_type": "markdown",
   "metadata": {},
   "source": [
    "### Prepare and clean plant taxon file"
   ]
  },
  {
   "cell_type": "code",
   "execution_count": 3,
   "metadata": {},
   "outputs": [],
   "source": [
    "# Load data containing the name list in Lecythidaceae to matach the taxa in GBIF\n",
    "lecy = pd.read_csv('https://raw.githubusercontent.com/lincarrieli/Data698/main/Lecythidaceae.csv')\n",
    "\n",
    "# Combine Genus and Species columns\n",
    "lecy[\"TaxonName\"] = lecy[\"Genus\"] +\" \"+ lecy[\"Species\"]"
   ]
  },
  {
   "cell_type": "code",
   "execution_count": 14,
   "metadata": {},
   "outputs": [],
   "source": [
    "# Provide GBIF login info\n",
    "login = \"lli@nybg.org\"\n",
    "password = \"GriasLecy_228\"\n",
    "species_file = lecy"
   ]
  },
  {
   "cell_type": "markdown",
   "metadata": {},
   "source": [
    "### Download species occurrence records "
   ]
  },
  {
   "cell_type": "code",
   "execution_count": 15,
   "metadata": {},
   "outputs": [],
   "source": [
    "# Get Taxon Keys\n",
    "species_list = lecy\n",
    "taxon_keys = match_species(species_list, \"TaxonName\")\n",
    "\n",
    "# Filter keys how you see fit\n",
    "key_list = taxon_keys.loc[(taxon_keys[\"matchType\"]==\"EXACT\") & (taxon_keys[\"status\"]==\"ACCEPTED\")].usageKey.tolist()"
   ]
  },
  {
   "cell_type": "code",
   "execution_count": 51,
   "metadata": {},
   "outputs": [],
   "source": [
    "# Make download query\n",
    "download_query = {}\n",
    "download_query[\"creator\"] = \"linli\"\n",
    "download_query[\"notificationAddresses\"] = [\"\"]\n",
    "download_query[\"sendNotification\"] = False\n",
    "download_query[\"format\"] = \"SIMPLE_CSV\"\n",
    "download_query[\"predicate\"] = {\n",
    "    \"type\": \"in\",\n",
    "    \"key\": \"TAXON_KEY\",\n",
    "    \"values\": key_list\n",
    "}"
   ]
  },
  {
   "cell_type": "code",
   "execution_count": 59,
   "metadata": {},
   "outputs": [
    {
     "name": "stdout",
     "output_type": "stream",
     "text": [
      "ok\n"
     ]
    }
   ],
   "source": [
    "dl = create_download_given_query(login, password, download_query)"
   ]
  },
  {
   "cell_type": "code",
   "execution_count": null,
   "metadata": {},
   "outputs": [],
   "source": []
  }
 ],
 "metadata": {
  "kernelspec": {
   "display_name": "Python 3",
   "language": "python",
   "name": "python3"
  },
  "language_info": {
   "codemirror_mode": {
    "name": "ipython",
    "version": 3
   },
   "file_extension": ".py",
   "mimetype": "text/x-python",
   "name": "python",
   "nbconvert_exporter": "python",
   "pygments_lexer": "ipython3",
   "version": "3.8.5"
  }
 },
 "nbformat": 4,
 "nbformat_minor": 2
}
