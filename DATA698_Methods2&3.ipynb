{
 "cells": [
  {
   "cell_type": "markdown",
   "metadata": {},
   "source": [
    "### Methods: 2. Data Preparation"
   ]
  },
  {
   "cell_type": "code",
   "execution_count": 1,
   "metadata": {},
   "outputs": [],
   "source": [
    "import pandas as pd\n",
    "import numpy as np"
   ]
  },
  {
   "cell_type": "code",
   "execution_count": 2,
   "metadata": {},
   "outputs": [
    {
     "name": "stderr",
     "output_type": "stream",
     "text": [
      "/Users/linli/anaconda3/lib/python3.8/site-packages/IPython/core/interactiveshell.py:3146: DtypeWarning: Columns (46) have mixed types.Specify dtype option on import or set low_memory=False.\n",
      "  has_raised = await self.run_ast_nodes(code_ast.body, cell_name,\n"
     ]
    },
    {
     "data": {
      "text/plain": [
       "(80202, 50)"
      ]
     },
     "execution_count": 2,
     "metadata": {},
     "output_type": "execute_result"
    }
   ],
   "source": [
    "# Make species occurrence dataframe\n",
    "lecy_occ = pd.read_csv('lecy_occ1.csv')\n",
    "# Get how many columns and rows the dataframe contains\n",
    "lecy_occ.shape"
   ]
  },
  {
   "cell_type": "code",
   "execution_count": 3,
   "metadata": {},
   "outputs": [],
   "source": [
    "# Create subset dataframe with columns required for \n",
    "lecy_subset = lecy_occ[['genus','species','scientificName','countryCode',\n",
    "                        'decimalLatitude','decimalLongitude','year']]"
   ]
  },
  {
   "cell_type": "code",
   "execution_count": 4,
   "metadata": {},
   "outputs": [
    {
     "data": {
      "text/plain": [
       "(46661, 7)"
      ]
     },
     "execution_count": 4,
     "metadata": {},
     "output_type": "execute_result"
    }
   ],
   "source": [
    "# Drop rows without Lat,Long and year values\n",
    "lecy_clean = lecy_subset.dropna(subset=['decimalLongitude', 'decimalLongitude','year'])\n",
    "lecy_clean.shape"
   ]
  },
  {
   "cell_type": "code",
   "execution_count": 5,
   "metadata": {},
   "outputs": [
    {
     "data": {
      "text/html": [
       "<div>\n",
       "<style scoped>\n",
       "    .dataframe tbody tr th:only-of-type {\n",
       "        vertical-align: middle;\n",
       "    }\n",
       "\n",
       "    .dataframe tbody tr th {\n",
       "        vertical-align: top;\n",
       "    }\n",
       "\n",
       "    .dataframe thead th {\n",
       "        text-align: right;\n",
       "    }\n",
       "</style>\n",
       "<table border=\"1\" class=\"dataframe\">\n",
       "  <thead>\n",
       "    <tr style=\"text-align: right;\">\n",
       "      <th></th>\n",
       "      <th>genus</th>\n",
       "      <th>species</th>\n",
       "      <th>scientificName</th>\n",
       "      <th>countryCode</th>\n",
       "      <th>decimalLatitude</th>\n",
       "      <th>decimalLongitude</th>\n",
       "      <th>year</th>\n",
       "    </tr>\n",
       "  </thead>\n",
       "  <tbody>\n",
       "    <tr>\n",
       "      <th>0</th>\n",
       "      <td>Barringtonia</td>\n",
       "      <td>Barringtonia asiatica</td>\n",
       "      <td>Barringtonia asiatica (L.) Kurz</td>\n",
       "      <td>TH</td>\n",
       "      <td>8.733881</td>\n",
       "      <td>98.234623</td>\n",
       "      <td>2021.0</td>\n",
       "    </tr>\n",
       "    <tr>\n",
       "      <th>1</th>\n",
       "      <td>Couroupita</td>\n",
       "      <td>Couroupita guianensis</td>\n",
       "      <td>Couroupita guianensis Aubl.</td>\n",
       "      <td>SG</td>\n",
       "      <td>1.367390</td>\n",
       "      <td>103.828598</td>\n",
       "      <td>2021.0</td>\n",
       "    </tr>\n",
       "    <tr>\n",
       "      <th>2</th>\n",
       "      <td>Couroupita</td>\n",
       "      <td>Couroupita guianensis</td>\n",
       "      <td>Couroupita guianensis Aubl.</td>\n",
       "      <td>SG</td>\n",
       "      <td>1.367460</td>\n",
       "      <td>103.828912</td>\n",
       "      <td>2021.0</td>\n",
       "    </tr>\n",
       "    <tr>\n",
       "      <th>3</th>\n",
       "      <td>Barringtonia</td>\n",
       "      <td>Barringtonia asiatica</td>\n",
       "      <td>Barringtonia asiatica (L.) Kurz</td>\n",
       "      <td>SG</td>\n",
       "      <td>1.306527</td>\n",
       "      <td>103.788879</td>\n",
       "      <td>2021.0</td>\n",
       "    </tr>\n",
       "    <tr>\n",
       "      <th>4</th>\n",
       "      <td>Couroupita</td>\n",
       "      <td>Couroupita guianensis</td>\n",
       "      <td>Couroupita guianensis Aubl.</td>\n",
       "      <td>SG</td>\n",
       "      <td>1.367354</td>\n",
       "      <td>103.828629</td>\n",
       "      <td>2021.0</td>\n",
       "    </tr>\n",
       "  </tbody>\n",
       "</table>\n",
       "</div>"
      ],
      "text/plain": [
       "          genus                species                   scientificName  \\\n",
       "0  Barringtonia  Barringtonia asiatica  Barringtonia asiatica (L.) Kurz   \n",
       "1    Couroupita  Couroupita guianensis      Couroupita guianensis Aubl.   \n",
       "2    Couroupita  Couroupita guianensis      Couroupita guianensis Aubl.   \n",
       "3  Barringtonia  Barringtonia asiatica  Barringtonia asiatica (L.) Kurz   \n",
       "4    Couroupita  Couroupita guianensis      Couroupita guianensis Aubl.   \n",
       "\n",
       "  countryCode  decimalLatitude  decimalLongitude    year  \n",
       "0          TH         8.733881         98.234623  2021.0  \n",
       "1          SG         1.367390        103.828598  2021.0  \n",
       "2          SG         1.367460        103.828912  2021.0  \n",
       "3          SG         1.306527        103.788879  2021.0  \n",
       "4          SG         1.367354        103.828629  2021.0  "
      ]
     },
     "execution_count": 5,
     "metadata": {},
     "output_type": "execute_result"
    }
   ],
   "source": [
    "lecy_clean.head()"
   ]
  },
  {
   "cell_type": "code",
   "execution_count": 6,
   "metadata": {},
   "outputs": [
    {
     "name": "stderr",
     "output_type": "stream",
     "text": [
      "<ipython-input-6-1a4b97cdb3c3>:2: SettingWithCopyWarning: \n",
      "A value is trying to be set on a copy of a slice from a DataFrame.\n",
      "Try using .loc[row_indexer,col_indexer] = value instead\n",
      "\n",
      "See the caveats in the documentation: https://pandas.pydata.org/pandas-docs/stable/user_guide/indexing.html#returning-a-view-versus-a-copy\n",
      "  lecy_clean['year'] = lecy_clean['year'].values.astype(np.int64)\n"
     ]
    }
   ],
   "source": [
    "# Convert the year column from float to int\n",
    "lecy_clean['year'] = lecy_clean['year'].values.astype(np.int64)"
   ]
  },
  {
   "cell_type": "code",
   "execution_count": 7,
   "metadata": {},
   "outputs": [
    {
     "data": {
      "text/plain": [
       "genus                object\n",
       "species              object\n",
       "scientificName       object\n",
       "countryCode          object\n",
       "decimalLatitude     float64\n",
       "decimalLongitude    float64\n",
       "year                  int64\n",
       "dtype: object"
      ]
     },
     "execution_count": 7,
     "metadata": {},
     "output_type": "execute_result"
    }
   ],
   "source": [
    "# Get column types\n",
    "lecy_clean.dtypes"
   ]
  },
  {
   "cell_type": "code",
   "execution_count": 8,
   "metadata": {},
   "outputs": [
    {
     "data": {
      "text/html": [
       "<div>\n",
       "<style scoped>\n",
       "    .dataframe tbody tr th:only-of-type {\n",
       "        vertical-align: middle;\n",
       "    }\n",
       "\n",
       "    .dataframe tbody tr th {\n",
       "        vertical-align: top;\n",
       "    }\n",
       "\n",
       "    .dataframe thead th {\n",
       "        text-align: right;\n",
       "    }\n",
       "</style>\n",
       "<table border=\"1\" class=\"dataframe\">\n",
       "  <thead>\n",
       "    <tr style=\"text-align: right;\">\n",
       "      <th></th>\n",
       "      <th>genus</th>\n",
       "      <th>species</th>\n",
       "      <th>scientificName</th>\n",
       "      <th>countryCode</th>\n",
       "      <th>decimalLatitude</th>\n",
       "      <th>decimalLongitude</th>\n",
       "      <th>year</th>\n",
       "    </tr>\n",
       "  </thead>\n",
       "  <tbody>\n",
       "    <tr>\n",
       "      <th>0</th>\n",
       "      <td>Barringtonia</td>\n",
       "      <td>Barringtonia asiatica</td>\n",
       "      <td>Barringtonia asiatica (L.) Kurz</td>\n",
       "      <td>TH</td>\n",
       "      <td>8.733881</td>\n",
       "      <td>98.234623</td>\n",
       "      <td>2021</td>\n",
       "    </tr>\n",
       "    <tr>\n",
       "      <th>1</th>\n",
       "      <td>Couroupita</td>\n",
       "      <td>Couroupita guianensis</td>\n",
       "      <td>Couroupita guianensis Aubl.</td>\n",
       "      <td>SG</td>\n",
       "      <td>1.367390</td>\n",
       "      <td>103.828598</td>\n",
       "      <td>2021</td>\n",
       "    </tr>\n",
       "    <tr>\n",
       "      <th>2</th>\n",
       "      <td>Couroupita</td>\n",
       "      <td>Couroupita guianensis</td>\n",
       "      <td>Couroupita guianensis Aubl.</td>\n",
       "      <td>SG</td>\n",
       "      <td>1.367460</td>\n",
       "      <td>103.828912</td>\n",
       "      <td>2021</td>\n",
       "    </tr>\n",
       "    <tr>\n",
       "      <th>3</th>\n",
       "      <td>Barringtonia</td>\n",
       "      <td>Barringtonia asiatica</td>\n",
       "      <td>Barringtonia asiatica (L.) Kurz</td>\n",
       "      <td>SG</td>\n",
       "      <td>1.306527</td>\n",
       "      <td>103.788879</td>\n",
       "      <td>2021</td>\n",
       "    </tr>\n",
       "    <tr>\n",
       "      <th>4</th>\n",
       "      <td>Couroupita</td>\n",
       "      <td>Couroupita guianensis</td>\n",
       "      <td>Couroupita guianensis Aubl.</td>\n",
       "      <td>SG</td>\n",
       "      <td>1.367354</td>\n",
       "      <td>103.828629</td>\n",
       "      <td>2021</td>\n",
       "    </tr>\n",
       "  </tbody>\n",
       "</table>\n",
       "</div>"
      ],
      "text/plain": [
       "          genus                species                   scientificName  \\\n",
       "0  Barringtonia  Barringtonia asiatica  Barringtonia asiatica (L.) Kurz   \n",
       "1    Couroupita  Couroupita guianensis      Couroupita guianensis Aubl.   \n",
       "2    Couroupita  Couroupita guianensis      Couroupita guianensis Aubl.   \n",
       "3  Barringtonia  Barringtonia asiatica  Barringtonia asiatica (L.) Kurz   \n",
       "4    Couroupita  Couroupita guianensis      Couroupita guianensis Aubl.   \n",
       "\n",
       "  countryCode  decimalLatitude  decimalLongitude  year  \n",
       "0          TH         8.733881         98.234623  2021  \n",
       "1          SG         1.367390        103.828598  2021  \n",
       "2          SG         1.367460        103.828912  2021  \n",
       "3          SG         1.306527        103.788879  2021  \n",
       "4          SG         1.367354        103.828629  2021  "
      ]
     },
     "execution_count": 8,
     "metadata": {},
     "output_type": "execute_result"
    }
   ],
   "source": [
    "lecy_clean.head()"
   ]
  },
  {
   "cell_type": "code",
   "execution_count": 9,
   "metadata": {},
   "outputs": [
    {
     "name": "stderr",
     "output_type": "stream",
     "text": [
      "<ipython-input-9-2e7a3b2ba501>:2: SettingWithCopyWarning: \n",
      "A value is trying to be set on a copy of a slice from a DataFrame.\n",
      "Try using .loc[row_indexer,col_indexer] = value instead\n",
      "\n",
      "See the caveats in the documentation: https://pandas.pydata.org/pandas-docs/stable/user_guide/indexing.html#returning-a-view-versus-a-copy\n",
      "  lecy_clean['decade'] = (10 * (lecy_clean['year'] // 10))\n"
     ]
    }
   ],
   "source": [
    "# Convert years to decades\n",
    "lecy_clean['decade'] = (10 * (lecy_clean['year'] // 10))"
   ]
  },
  {
   "cell_type": "code",
   "execution_count": 10,
   "metadata": {},
   "outputs": [
    {
     "data": {
      "text/html": [
       "<div>\n",
       "<style scoped>\n",
       "    .dataframe tbody tr th:only-of-type {\n",
       "        vertical-align: middle;\n",
       "    }\n",
       "\n",
       "    .dataframe tbody tr th {\n",
       "        vertical-align: top;\n",
       "    }\n",
       "\n",
       "    .dataframe thead th {\n",
       "        text-align: right;\n",
       "    }\n",
       "</style>\n",
       "<table border=\"1\" class=\"dataframe\">\n",
       "  <thead>\n",
       "    <tr style=\"text-align: right;\">\n",
       "      <th></th>\n",
       "      <th>genus</th>\n",
       "      <th>species</th>\n",
       "      <th>scientificName</th>\n",
       "      <th>countryCode</th>\n",
       "      <th>decimalLatitude</th>\n",
       "      <th>decimalLongitude</th>\n",
       "      <th>year</th>\n",
       "      <th>decade</th>\n",
       "    </tr>\n",
       "  </thead>\n",
       "  <tbody>\n",
       "    <tr>\n",
       "      <th>0</th>\n",
       "      <td>Barringtonia</td>\n",
       "      <td>Barringtonia asiatica</td>\n",
       "      <td>Barringtonia asiatica (L.) Kurz</td>\n",
       "      <td>TH</td>\n",
       "      <td>8.733881</td>\n",
       "      <td>98.234623</td>\n",
       "      <td>2021</td>\n",
       "      <td>2020</td>\n",
       "    </tr>\n",
       "    <tr>\n",
       "      <th>1</th>\n",
       "      <td>Couroupita</td>\n",
       "      <td>Couroupita guianensis</td>\n",
       "      <td>Couroupita guianensis Aubl.</td>\n",
       "      <td>SG</td>\n",
       "      <td>1.367390</td>\n",
       "      <td>103.828598</td>\n",
       "      <td>2021</td>\n",
       "      <td>2020</td>\n",
       "    </tr>\n",
       "    <tr>\n",
       "      <th>2</th>\n",
       "      <td>Couroupita</td>\n",
       "      <td>Couroupita guianensis</td>\n",
       "      <td>Couroupita guianensis Aubl.</td>\n",
       "      <td>SG</td>\n",
       "      <td>1.367460</td>\n",
       "      <td>103.828912</td>\n",
       "      <td>2021</td>\n",
       "      <td>2020</td>\n",
       "    </tr>\n",
       "    <tr>\n",
       "      <th>3</th>\n",
       "      <td>Barringtonia</td>\n",
       "      <td>Barringtonia asiatica</td>\n",
       "      <td>Barringtonia asiatica (L.) Kurz</td>\n",
       "      <td>SG</td>\n",
       "      <td>1.306527</td>\n",
       "      <td>103.788879</td>\n",
       "      <td>2021</td>\n",
       "      <td>2020</td>\n",
       "    </tr>\n",
       "    <tr>\n",
       "      <th>4</th>\n",
       "      <td>Couroupita</td>\n",
       "      <td>Couroupita guianensis</td>\n",
       "      <td>Couroupita guianensis Aubl.</td>\n",
       "      <td>SG</td>\n",
       "      <td>1.367354</td>\n",
       "      <td>103.828629</td>\n",
       "      <td>2021</td>\n",
       "      <td>2020</td>\n",
       "    </tr>\n",
       "  </tbody>\n",
       "</table>\n",
       "</div>"
      ],
      "text/plain": [
       "          genus                species                   scientificName  \\\n",
       "0  Barringtonia  Barringtonia asiatica  Barringtonia asiatica (L.) Kurz   \n",
       "1    Couroupita  Couroupita guianensis      Couroupita guianensis Aubl.   \n",
       "2    Couroupita  Couroupita guianensis      Couroupita guianensis Aubl.   \n",
       "3  Barringtonia  Barringtonia asiatica  Barringtonia asiatica (L.) Kurz   \n",
       "4    Couroupita  Couroupita guianensis      Couroupita guianensis Aubl.   \n",
       "\n",
       "  countryCode  decimalLatitude  decimalLongitude  year  decade  \n",
       "0          TH         8.733881         98.234623  2021    2020  \n",
       "1          SG         1.367390        103.828598  2021    2020  \n",
       "2          SG         1.367460        103.828912  2021    2020  \n",
       "3          SG         1.306527        103.788879  2021    2020  \n",
       "4          SG         1.367354        103.828629  2021    2020  "
      ]
     },
     "execution_count": 10,
     "metadata": {},
     "output_type": "execute_result"
    }
   ],
   "source": [
    "lecy_clean.head()"
   ]
  },
  {
   "cell_type": "code",
   "execution_count": 11,
   "metadata": {},
   "outputs": [],
   "source": [
    "#lecy_clean.decade.unique()\n",
    "lecy_final = lecy_clean"
   ]
  },
  {
   "cell_type": "markdown",
   "metadata": {},
   "source": [
    "### Methods: 3. Map Construction"
   ]
  },
  {
   "cell_type": "code",
   "execution_count": 12,
   "metadata": {},
   "outputs": [],
   "source": [
    "# Import libraries\n",
    "import chart_studio.plotly as py\n",
    "import plotly.graph_objs as go\n",
    "fig = go.Figure()\n",
    "from plotly.offline import iplot, init_notebook_mode\n",
    "import plotly\n",
    "import pandas as pd"
   ]
  },
  {
   "cell_type": "code",
   "execution_count": 13,
   "metadata": {},
   "outputs": [],
   "source": [
    "import dash\n",
    "import dash_core_components as dcc\n",
    "import dash_html_components as html"
   ]
  },
  {
   "cell_type": "code",
   "execution_count": 14,
   "metadata": {},
   "outputs": [],
   "source": [
    "# Set user, API key and access token\n",
    "import chart_studio\n",
    "chart_studio.tools.set_credentials_file(username='lincarrieli', api_key='qOjfMIuYNEW2UO6As1q1')\n",
    "#plotly.tools.set_credentials_file(username='lincarrieli', api_key='qOjfMIuYNEW2UO6As1q1')\n",
    "mapbox_access_token = 'pk.eyJ1IjoibGluY2FycmllbGkiLCJhIjoiY2tvcDVpOWRuMDFtaTJ1b3d4cHZzMzlneiJ9.nb-G9SBC_2OjWi1_Ufc_xA'"
   ]
  },
  {
   "cell_type": "code",
   "execution_count": 15,
   "metadata": {},
   "outputs": [],
   "source": [
    "# Get unique genus names and decade to lists\n",
    "import numpy as np\n",
    "genus_list = sorted(lecy_final['genus'].unique())\n",
    "decade_list = sorted(lecy_final['decade'].unique())"
   ]
  },
  {
   "cell_type": "code",
   "execution_count": 16,
   "metadata": {},
   "outputs": [],
   "source": [
    "# Loop over genera list and use it to filter the dataframe\n",
    "data = []\n",
    "for genus in genus_list:\n",
    "    genus_data = dict(\n",
    "            lat = lecy_final.loc[lecy_final['genus'] == genus,'decimalLatitude'],\n",
    "            lon = lecy_final.loc[lecy_final['genus'] == genus,'decimalLongitude'],\n",
    "            name = genus,\n",
    "            marker = dict(size = 8, opacity = 0.5),\n",
    "            type = 'scattermapbox'\n",
    "        )\n",
    "    data.append(genus_data)"
   ]
  },
  {
   "cell_type": "markdown",
   "metadata": {},
   "source": [
    "#### Map Settings"
   ]
  },
  {
   "cell_type": "code",
   "execution_count": 17,
   "metadata": {},
   "outputs": [],
   "source": [
    "# Basic setting of map\n",
    "layout = dict(\n",
    "    height = 1000,\n",
    "    # set top, bottom, left and right margins\n",
    "    margin = dict(t = 0, b = 0, l = 0, r = 0),\n",
    "    font = dict(color = '#FFFFFF', size = 11),\n",
    "    paper_bgcolor = '#000000',\n",
    "    mapbox = dict(\n",
    "        # here need the token from Mapbox\n",
    "        accesstoken = 'pk.eyJ1IjoibGluY2FycmllbGkiLCJhIjoiY2tvcDVpOWRuMDFtaTJ1b3d4cHZzMzlneiJ9.nb-G9SBC_2OjWi1_Ufc_xA',\n",
    "        bearing = 0,\n",
    "        center = dict(\n",
    "            lat = 0,\n",
    "            lon = 0\n",
    "        ),\n",
    "        pitch = 0,\n",
    "        zoom = 3,\n",
    "        style = 'light'\n",
    "    )\n",
    ")"
   ]
  },
  {
   "cell_type": "code",
   "execution_count": 18,
   "metadata": {},
   "outputs": [],
   "source": [
    "# Map annotations\n",
    "annotations = [dict(\n",
    "              text = 'Distribution of Lecythidaceae,<br> from the 1700s to 2021', \n",
    "              font = dict(color = '#FFFFFF', size = 14), borderpad = 10,\n",
    "              x = 0.01, y = 0.1, xref = 'paper', yref = 'paper', align = 'left', \n",
    "              showarrow = False, bgcolor = 'black'\n",
    "              )]\n",
    "\n",
    "# Assigning the annotations to the layout\n",
    "layout['annotations'] = annotations"
   ]
  },
  {
   "cell_type": "code",
   "execution_count": 19,
   "metadata": {},
   "outputs": [],
   "source": [
    "# Create drop-down menus: 1. by genera 2. by decade\n",
    "\n",
    "i = 0\n",
    "genus_Dicts = []\n",
    "#add object for 'all'\n",
    "genus_Dicts.append({'label': 'All genera', 'method': 'update', 'args': [{'visible': [True] * len(genus_list)}]})\n",
    "while i < len(genus_list):\n",
    "    temp_genusDict = {\n",
    "        'label': genus_list[i],\n",
    "        'method': 'update',\n",
    "        'args': [{'visible': [False] * len(genus_list)}]\n",
    "    }\n",
    "    temp_genusDict['args'][0]['visible'][i] = True\n",
    "    genus_Dicts.append(temp_genusDict)\n",
    "    i += 1\n",
    "    \n",
    "# Loop through 2. decade list\n",
    "i = 0\n",
    "decade_Dicts = []\n",
    "#add object for 'all'\n",
    "decade_Dicts.append({'label': 'All years', 'method': 'update', 'args': [{'visible': [True] * len(decade_list)}]})\n",
    "while i < len(decade_list):\n",
    "    temp_decadeDict = {\n",
    "        'label': decade_list[i],\n",
    "        'method': 'update',\n",
    "        'args': [{'visible': [False] * len(decade_list)}]\n",
    "    }\n",
    "    temp_decadeDict['args'][0]['visible'][i] = True\n",
    "    decade_Dicts.append(temp_decadeDict)\n",
    "    i += 1"
   ]
  },
  {
   "cell_type": "code",
   "execution_count": 20,
   "metadata": {},
   "outputs": [],
   "source": [
    "updatemenus = list([\n",
    "    dict(\n",
    "        buttons = genus_Dicts,\n",
    "        direction = 'up',\n",
    "        x = 0.99,\n",
    "        xanchor = 'left',\n",
    "        y = 0.1,\n",
    "        yanchor = 'bottom',\n",
    "    \n",
    "        bgcolor = '#000000',\n",
    "        bordercolor = '#FFFFFF',\n",
    "        font = dict(size=11)\n",
    "    ),\n",
    "\n",
    "    dict(\n",
    "        buttons = decade_Dicts,\n",
    "        direction = 'down',\n",
    "        x = 0.01,\n",
    "        y = 0.99,\n",
    "        yanchor = 'bottom',\n",
    "        bgcolor = '#000000',\n",
    "        bordercolor = '#FFFFFF',\n",
    "        font = dict(size=11)     \n",
    "    )\n",
    "\n",
    "])\n",
    "layout['updatemenus'] = updatemenus\n",
    "layout['title'] = 'Global Distribution of Lecythidaceae'"
   ]
  },
  {
   "cell_type": "code",
   "execution_count": 21,
   "metadata": {},
   "outputs": [
    {
     "name": "stdout",
     "output_type": "stream",
     "text": [
      "Dash is running on http://127.0.0.1:8050/\n",
      "\n",
      " * Serving Flask app \"__main__\" (lazy loading)\n",
      " * Environment: production\n",
      "\u001b[31m   WARNING: This is a development server. Do not use it in a production deployment.\u001b[0m\n",
      "\u001b[2m   Use a production WSGI server instead.\u001b[0m\n",
      " * Debug mode: on\n"
     ]
    }
   ],
   "source": [
    "figure = dict(data = data, layout = layout)\n",
    "app = dash.Dash()\n",
    "app.layout = html.Div([\n",
    "    dcc.Graph(figure=figure)\n",
    "])\n",
    "\n",
    "app.run_server(debug=True, use_reloader=False)"
   ]
  }
 ],
 "metadata": {
  "kernelspec": {
   "display_name": "Python 3",
   "language": "python",
   "name": "python3"
  },
  "language_info": {
   "codemirror_mode": {
    "name": "ipython",
    "version": 3
   },
   "file_extension": ".py",
   "mimetype": "text/x-python",
   "name": "python",
   "nbconvert_exporter": "python",
   "pygments_lexer": "ipython3",
   "version": "3.8.5"
  }
 },
 "nbformat": 4,
 "nbformat_minor": 4
}
